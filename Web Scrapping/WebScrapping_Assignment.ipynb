{
  "nbformat": 4,
  "nbformat_minor": 0,
  "metadata": {
    "colab": {
      "name": "WebScrapping Assignment.ipynb",
      "provenance": []
    },
    "kernelspec": {
      "name": "python3",
      "display_name": "Python 3"
    },
    "language_info": {
      "name": "python"
    }
  },
  "cells": [
    {
      "cell_type": "code",
      "execution_count": 76,
      "metadata": {
        "id": "VJy2skoUnBRG"
      },
      "outputs": [],
      "source": [
        "from bs4 import BeautifulSoup\n",
        "import requests\n",
        "import pandas as pd"
      ]
    },
    {
      "cell_type": "code",
      "source": [
        "page = requests.get(url=\"https://en.wikipedia.org/wiki/Web_scraping\")\n",
        "page.status_code"
      ],
      "metadata": {
        "colab": {
          "base_uri": "https://localhost:8080/"
        },
        "id": "1nonDB2on0Qm",
        "outputId": "cbd26a38-d635-4571-ce7f-bca7632512c1"
      },
      "execution_count": 77,
      "outputs": [
        {
          "output_type": "execute_result",
          "data": {
            "text/plain": [
              "200"
            ]
          },
          "metadata": {},
          "execution_count": 77
        }
      ]
    },
    {
      "cell_type": "code",
      "source": [
        "soup = BeautifulSoup(page.content, \"html.parser\")\n",
        "\n",
        "title = soup.find(\"h1\", id=\"firstHeading\").text\n",
        "\n",
        "print(title)"
      ],
      "metadata": {
        "colab": {
          "base_uri": "https://localhost:8080/"
        },
        "id": "bwYO4lCGn-1h",
        "outputId": "42b9889f-5d92-4123-c122-83520b33b862"
      },
      "execution_count": 78,
      "outputs": [
        {
          "output_type": "stream",
          "name": "stdout",
          "text": [
            "Web scraping\n"
          ]
        }
      ]
    },
    {
      "cell_type": "code",
      "source": [
        "data = soup.find(\"div\", id=\"mw-content-text\").text\n",
        "# print(data)"
      ],
      "metadata": {
        "id": "sexLm8MIockl"
      },
      "execution_count": 79,
      "outputs": []
    },
    {
      "cell_type": "code",
      "source": [
        "# list(soup.children)"
      ],
      "metadata": {
        "id": "NiUHBLgp_HXw"
      },
      "execution_count": 29,
      "outputs": []
    },
    {
      "cell_type": "code",
      "source": [
        "tags = []\n",
        "\n",
        "for tag in soup.findAll(True):\n",
        "  tags.append(tag.name)\n",
        "\n",
        "tag_list = list(dict.fromkeys(tags))\n",
        "tag_list.sort()\n",
        "print(tag_list)"
      ],
      "metadata": {
        "colab": {
          "base_uri": "https://localhost:8080/"
        },
        "id": "4jH3IJqSAP1A",
        "outputId": "a77fbf66-c42e-48f0-af26-fa8a6d284c39"
      },
      "execution_count": 80,
      "outputs": [
        {
          "output_type": "stream",
          "name": "stdout",
          "text": [
            "['a', 'b', 'bdi', 'body', 'br', 'cite', 'div', 'footer', 'form', 'h1', 'h2', 'h3', 'head', 'html', 'i', 'img', 'input', 'label', 'li', 'link', 'meta', 'nav', 'noscript', 'ol', 'p', 'script', 'small', 'span', 'style', 'sup', 'table', 'tbody', 'td', 'title', 'tr', 'ul']\n"
          ]
        }
      ]
    },
    {
      "cell_type": "code",
      "source": [
        "data = pd.read_excel(\"data.xlsx\")\n",
        "# data"
      ],
      "metadata": {
        "id": "2eqpp5XcofjH"
      },
      "execution_count": 81,
      "outputs": []
    },
    {
      "cell_type": "code",
      "source": [
        "def change(val):\n",
        "    val2 = val.split(\" \")\n",
        "    val2 = \"_\".join(val2)\n",
        "    # print(val2)\n",
        "    return val2"
      ],
      "metadata": {
        "id": "P4_X0PGUonac"
      },
      "execution_count": 82,
      "outputs": []
    },
    {
      "cell_type": "code",
      "source": [
        "data[\"Names_New\"] = data['Names'].apply(change)"
      ],
      "metadata": {
        "id": "A4xMFwdNpAy7"
      },
      "execution_count": 83,
      "outputs": []
    },
    {
      "cell_type": "code",
      "source": [
        "data.head()"
      ],
      "metadata": {
        "colab": {
          "base_uri": "https://localhost:8080/",
          "height": 206
        },
        "id": "USqjOANapTyp",
        "outputId": "cbd362b4-07ca-4d33-af63-5e1c75a3b13d"
      },
      "execution_count": 84,
      "outputs": [
        {
          "output_type": "execute_result",
          "data": {
            "text/plain": [
              "                     Names                Names_New\n",
              "0  Artificial Intelligence  Artificial_Intelligence\n",
              "1               Blockchain               Blockchain\n",
              "2       Internet of things       Internet_of_things\n",
              "3          Cloud Computing          Cloud_Computing\n",
              "4                   Amazon                   Amazon"
            ],
            "text/html": [
              "\n",
              "  <div id=\"df-1af498a1-7394-4bd0-807b-034df8abefd6\">\n",
              "    <div class=\"colab-df-container\">\n",
              "      <div>\n",
              "<style scoped>\n",
              "    .dataframe tbody tr th:only-of-type {\n",
              "        vertical-align: middle;\n",
              "    }\n",
              "\n",
              "    .dataframe tbody tr th {\n",
              "        vertical-align: top;\n",
              "    }\n",
              "\n",
              "    .dataframe thead th {\n",
              "        text-align: right;\n",
              "    }\n",
              "</style>\n",
              "<table border=\"1\" class=\"dataframe\">\n",
              "  <thead>\n",
              "    <tr style=\"text-align: right;\">\n",
              "      <th></th>\n",
              "      <th>Names</th>\n",
              "      <th>Names_New</th>\n",
              "    </tr>\n",
              "  </thead>\n",
              "  <tbody>\n",
              "    <tr>\n",
              "      <th>0</th>\n",
              "      <td>Artificial Intelligence</td>\n",
              "      <td>Artificial_Intelligence</td>\n",
              "    </tr>\n",
              "    <tr>\n",
              "      <th>1</th>\n",
              "      <td>Blockchain</td>\n",
              "      <td>Blockchain</td>\n",
              "    </tr>\n",
              "    <tr>\n",
              "      <th>2</th>\n",
              "      <td>Internet of things</td>\n",
              "      <td>Internet_of_things</td>\n",
              "    </tr>\n",
              "    <tr>\n",
              "      <th>3</th>\n",
              "      <td>Cloud Computing</td>\n",
              "      <td>Cloud_Computing</td>\n",
              "    </tr>\n",
              "    <tr>\n",
              "      <th>4</th>\n",
              "      <td>Amazon</td>\n",
              "      <td>Amazon</td>\n",
              "    </tr>\n",
              "  </tbody>\n",
              "</table>\n",
              "</div>\n",
              "      <button class=\"colab-df-convert\" onclick=\"convertToInteractive('df-1af498a1-7394-4bd0-807b-034df8abefd6')\"\n",
              "              title=\"Convert this dataframe to an interactive table.\"\n",
              "              style=\"display:none;\">\n",
              "        \n",
              "  <svg xmlns=\"http://www.w3.org/2000/svg\" height=\"24px\"viewBox=\"0 0 24 24\"\n",
              "       width=\"24px\">\n",
              "    <path d=\"M0 0h24v24H0V0z\" fill=\"none\"/>\n",
              "    <path d=\"M18.56 5.44l.94 2.06.94-2.06 2.06-.94-2.06-.94-.94-2.06-.94 2.06-2.06.94zm-11 1L8.5 8.5l.94-2.06 2.06-.94-2.06-.94L8.5 2.5l-.94 2.06-2.06.94zm10 10l.94 2.06.94-2.06 2.06-.94-2.06-.94-.94-2.06-.94 2.06-2.06.94z\"/><path d=\"M17.41 7.96l-1.37-1.37c-.4-.4-.92-.59-1.43-.59-.52 0-1.04.2-1.43.59L10.3 9.45l-7.72 7.72c-.78.78-.78 2.05 0 2.83L4 21.41c.39.39.9.59 1.41.59.51 0 1.02-.2 1.41-.59l7.78-7.78 2.81-2.81c.8-.78.8-2.07 0-2.86zM5.41 20L4 18.59l7.72-7.72 1.47 1.35L5.41 20z\"/>\n",
              "  </svg>\n",
              "      </button>\n",
              "      \n",
              "  <style>\n",
              "    .colab-df-container {\n",
              "      display:flex;\n",
              "      flex-wrap:wrap;\n",
              "      gap: 12px;\n",
              "    }\n",
              "\n",
              "    .colab-df-convert {\n",
              "      background-color: #E8F0FE;\n",
              "      border: none;\n",
              "      border-radius: 50%;\n",
              "      cursor: pointer;\n",
              "      display: none;\n",
              "      fill: #1967D2;\n",
              "      height: 32px;\n",
              "      padding: 0 0 0 0;\n",
              "      width: 32px;\n",
              "    }\n",
              "\n",
              "    .colab-df-convert:hover {\n",
              "      background-color: #E2EBFA;\n",
              "      box-shadow: 0px 1px 2px rgba(60, 64, 67, 0.3), 0px 1px 3px 1px rgba(60, 64, 67, 0.15);\n",
              "      fill: #174EA6;\n",
              "    }\n",
              "\n",
              "    [theme=dark] .colab-df-convert {\n",
              "      background-color: #3B4455;\n",
              "      fill: #D2E3FC;\n",
              "    }\n",
              "\n",
              "    [theme=dark] .colab-df-convert:hover {\n",
              "      background-color: #434B5C;\n",
              "      box-shadow: 0px 1px 3px 1px rgba(0, 0, 0, 0.15);\n",
              "      filter: drop-shadow(0px 1px 2px rgba(0, 0, 0, 0.3));\n",
              "      fill: #FFFFFF;\n",
              "    }\n",
              "  </style>\n",
              "\n",
              "      <script>\n",
              "        const buttonEl =\n",
              "          document.querySelector('#df-1af498a1-7394-4bd0-807b-034df8abefd6 button.colab-df-convert');\n",
              "        buttonEl.style.display =\n",
              "          google.colab.kernel.accessAllowed ? 'block' : 'none';\n",
              "\n",
              "        async function convertToInteractive(key) {\n",
              "          const element = document.querySelector('#df-1af498a1-7394-4bd0-807b-034df8abefd6');\n",
              "          const dataTable =\n",
              "            await google.colab.kernel.invokeFunction('convertToInteractive',\n",
              "                                                     [key], {});\n",
              "          if (!dataTable) return;\n",
              "\n",
              "          const docLinkHtml = 'Like what you see? Visit the ' +\n",
              "            '<a target=\"_blank\" href=https://colab.research.google.com/notebooks/data_table.ipynb>data table notebook</a>'\n",
              "            + ' to learn more about interactive tables.';\n",
              "          element.innerHTML = '';\n",
              "          dataTable['output_type'] = 'display_data';\n",
              "          await google.colab.output.renderOutput(dataTable, element);\n",
              "          const docLink = document.createElement('div');\n",
              "          docLink.innerHTML = docLinkHtml;\n",
              "          element.appendChild(docLink);\n",
              "        }\n",
              "      </script>\n",
              "    </div>\n",
              "  </div>\n",
              "  "
            ]
          },
          "metadata": {},
          "execution_count": 84
        }
      ]
    },
    {
      "cell_type": "code",
      "source": [
        "names = list(data[\"Names_New\"]) \n",
        "len(names)"
      ],
      "metadata": {
        "id": "5uCAXvOJpjf0",
        "colab": {
          "base_uri": "https://localhost:8080/"
        },
        "outputId": "ec23fb98-9dff-4ff3-ea81-c52a234db29e"
      },
      "execution_count": 85,
      "outputs": [
        {
          "output_type": "execute_result",
          "data": {
            "text/plain": [
              "10"
            ]
          },
          "metadata": {},
          "execution_count": 85
        }
      ]
    },
    {
      "cell_type": "code",
      "source": [
        "tables = [[],[],[],[],[],[],[],[],[],[]]\n",
        "h1s = [[],[],[],[],[],[],[],[],[],[]]\n",
        "h2s = [[],[],[],[],[],[],[],[],[],[]]\n",
        "h3s = [[],[],[],[],[],[],[],[],[],[]]\n",
        "h4s = [[],[],[],[],[],[],[],[],[],[]]\n",
        "aS = [[],[],[],[],[],[],[],[],[],[]]\n",
        "italicS =[[],[],[],[],[],[],[],[],[],[]]\n",
        "pS=[[],[],[],[],[],[],[],[],[],[]]\n",
        "\n",
        "for i in range(len(names)):\n",
        "    page = requests.get(f\"https://en.wikipedia.org/wiki/{i}\")\n",
        "    soup = BeautifulSoup(page.content,'html.parser')\n",
        "\n",
        "    for table in soup.find_all('table'):\n",
        "      tables[i].append(table.text)\n",
        "\n",
        "    for h2 in soup.find_all('h2'):\n",
        "      h2s[i].append(h2.text)\n",
        "\n",
        "    for h1 in soup.find_all('h1'):\n",
        "      h1s[i].append(h1.text)\n",
        "\n",
        "    for h3 in soup.find_all('h3'):\n",
        "      h3s[i].append(h3.text)\n",
        "\n",
        "    for h4 in soup.find_all('h4'):\n",
        "      h4s[i].append(h4.text)\n",
        "\n",
        "    for a in soup.find_all('a'):\n",
        "      aS[i].append(a.text)\n",
        "\n",
        "    for p in soup.find_all('p'):\n",
        "      pS[i].append(p.text)\n",
        "\n",
        "    for italic in soup.find_all('i'):\n",
        "      italicS[i].append(italic.text)\n",
        "    "
      ],
      "metadata": {
        "id": "VXCnBTa8pWuJ"
      },
      "execution_count": 120,
      "outputs": []
    },
    {
      "cell_type": "code",
      "source": [
        "print(\"tables===>\",len(tables))\n",
        "print(\"h1s===>\",len(h1s))\n",
        "print(\"h2s===>\",len(h2s))\n",
        "print(\"h3s===>\",len(h3s))\n",
        "print(\"h4s===>\",len(h4s))\n",
        "print(\"aS===>\",len(aS))\n",
        "print(\"italicS===>\",len(italicS))\n",
        "print(\"pS===>\",len(pS))\n"
      ],
      "metadata": {
        "colab": {
          "base_uri": "https://localhost:8080/"
        },
        "id": "--7HA927Lkrb",
        "outputId": "47ba89b0-cf4c-42ce-8914-6b1ad1a9908b"
      },
      "execution_count": 121,
      "outputs": [
        {
          "output_type": "stream",
          "name": "stdout",
          "text": [
            "tables===> 10\n",
            "h1s===> 10\n",
            "h2s===> 10\n",
            "h3s===> 10\n",
            "h4s===> 10\n",
            "aS===> 10\n",
            "italicS===> 10\n",
            "pS===> 10\n"
          ]
        }
      ]
    },
    {
      "cell_type": "code",
      "source": [
        "all_data = {\n",
        "    \"tables\":tables,\n",
        "    \"Heading1\":h1s,\n",
        "    \"Heading2\":h2s,\n",
        "    \"Heading3\":h3s,\n",
        "    \"Heading4\":h4s,\n",
        "    \"Anchor\":aS,\n",
        "    \"Italic\":italicS,\n",
        "    \"Paragraph\":pS\n",
        "    }"
      ],
      "metadata": {
        "id": "0QihYkm4pdy_"
      },
      "execution_count": 122,
      "outputs": []
    },
    {
      "cell_type": "code",
      "source": [
        "df = pd.DataFrame(all_data)\n",
        "print(df)"
      ],
      "metadata": {
        "colab": {
          "base_uri": "https://localhost:8080/"
        },
        "id": "PmbWgCs3JF69",
        "outputId": "48cadcc0-9cf9-46b7-a587-5c6bf897b825"
      },
      "execution_count": 123,
      "outputs": [
        {
          "output_type": "stream",
          "name": "stdout",
          "text": [
            "                                              tables Heading1  \\\n",
            "0  [\\n← −1 \\n0\\n 1 →\\n -1 0 1 2 3 4 5 6 7 8 9 → L...      [0]   \n",
            "1  [\\n← 0 \\n1\\n 2 →\\n -1 0 1 2 3 4 5 6 7 8 9 → Li...      [1]   \n",
            "2  [\\n← 1 \\n2\\n 3 →\\n -1 0 1 2 3 4 5 6 7 8 9 → Li...      [2]   \n",
            "3  [\\n← 2 \\n3\\n 4 →\\n -1 0 1 2 3 4 5 6 7 8 9 → Li...      [3]   \n",
            "4  [\\n← 3 \\n4\\n 5 →\\n -1 0 1 2 3 4 5 6 7 8 9 → Li...      [4]   \n",
            "5  [\\n← 4 \\n5\\n 6 →\\n -1 0 1 2 3 4 5 6 7 8 9 → Li...      [5]   \n",
            "6  [\\n← 5 \\n6\\n 7 →\\n -1 0 1 2 3 4 5 6 7 8 9 → Li...      [6]   \n",
            "7  [It has been suggested that Symbolism of the n...      [7]   \n",
            "8  [\\n← 7 \\n8\\n 9 →\\n -1 0 1 2 3 4 5 6 7 8 9 → Li...      [8]   \n",
            "9  [\\n← 8 \\n9\\n 10 →\\n -1 0 1 2 3 4 5 6 7 8 9 → L...      [9]   \n",
            "\n",
            "                                            Heading2  \\\n",
            "0  [Contents, Etymology, History, Mathematics, Ph...   \n",
            "1  [Contents, Etymology, As a number, As a digit,...   \n",
            "2  [Contents, Evolution, In mathematics, In scien...   \n",
            "3  [Contents, Evolution of the Arabic digit[edit]...   \n",
            "4  [Contents, In mathematics, List of basic calcu...   \n",
            "5  [Contents, In mathematics[edit], Evolution of ...   \n",
            "6  [Contents, In mathematics, Greek and Latin wor...   \n",
            "7  [Contents, Evolution of the Arabic digit, Math...   \n",
            "8  [Contents, In mathematics, Etymology, Evolutio...   \n",
            "9  [Contents, Mathematics, List of basic calculat...   \n",
            "\n",
            "                                            Heading3  \\\n",
            "0  [Modern usage, Ancient Near East, Pre-Columbia...   \n",
            "1  [Definitions, Properties, Primality, Table of ...   \n",
            "2       [Arabic digit, Etymology of two, \\nSearch\\n]   \n",
            "3  [Numeral systems[edit], List of basic calculat...   \n",
            "4  [Buddhism, Judeo-Christian symbolism, Hinduism...   \n",
            "5  [List of basic calculations[edit], Astronomy[e...   \n",
            "6  [List of basic calculations, Hexa, The prefix ...   \n",
            "7  [Basic calculations, In Psychology, In literat...   \n",
            "8  [List of basic calculations, Physics, Astronom...   \n",
            "9  [Indian culture, Chinese culture, Ancient Egyp...   \n",
            "\n",
            "                                            Heading4  \\\n",
            "0  [Epigraphy, Transmission to Islamic culture, T...   \n",
            "1                                                 []   \n",
            "2                                                 []   \n",
            "3                                                 []   \n",
            "4                                                 []   \n",
            "5                   [Groups[edit], Other uses[edit]]   \n",
            "6                                                 []   \n",
            "7                                                 []   \n",
            "8  [Hinduism, Buddhism, Judaism, Christianity, Is...   \n",
            "9                                                 []   \n",
            "\n",
            "                                              Anchor  \\\n",
            "0  [, , Jump to navigation, Jump to search, O, O ...   \n",
            "1  [, , Jump to navigation, Jump to search, AD 1,...   \n",
            "2  [, , Jump to navigation, Jump to search, 2 BC,...   \n",
            "3  [, Jump to navigation, Jump to search, AD 3, 3...   \n",
            "4  [, , Jump to navigation, Jump to search, AD 4,...   \n",
            "5  [, Jump to navigation, Jump to search, AD 5, 5...   \n",
            "6  [, , Jump to navigation, Jump to search, AD 6,...   \n",
            "7  [, , Jump to navigation, Jump to search, AD 7,...   \n",
            "8  [, , Jump to navigation, Jump to search, AD 8,...   \n",
            "9  [, , Jump to navigation, Jump to search, AD 9,...   \n",
            "\n",
            "                                              Italic  \\\n",
            "0  [Ought, aught, cipher, zero, zéro, zero, zever...   \n",
            "1  [unit length, one, an, *ainaz, *ainaz, *oi-no-...   \n",
            "2  [two, two, two, twā, tū, twēġen, who, w, twā, ...   \n",
            "3  [e, n, n, n, n, n, n, n, n, n, n, n, n, n, tri...   \n",
            "4  [p, n, n, a, n, b, tetragon, n, n, An, x, y, z...   \n",
            "5  [p, only, S, n, n, n, K, x, x, x, x, x, pancha...   \n",
            "6  [Hexa, Hexa, sex-, q, n, n, S, S, n, n, n, A, ...   \n",
            "7  [Symbolism of the number 7,  Proposed since Au...   \n",
            "8  [O, Cl, p, q, Cl, p, q, x, x, x, x, x, eight, ...   \n",
            "9  [nine, p, n, n, n, n, N, N, x, x, x, x, x, x, ...   \n",
            "\n",
            "                                           Paragraph  \n",
            "0  [\\n, 0 (zero) is a number,[1] and the numerica...  \n",
            "1  [\\n, 1 (one, also called unit, and unity) is a...  \n",
            "2  [\\n, 2 (two) is a number, numeral and digit. I...  \n",
            "3  [3 (three) is a number, numeral and digit. It ...  \n",
            "4  [\\n, 4 (four) is a number, numeral and digit. ...  \n",
            "5  [5 (five) is a number, numeral and digit. It i...  \n",
            "6  [\\n, 6 (six) is the natural number following 5...  \n",
            "7  [\\n, 7 (seven) is the natural number following...  \n",
            "8  [\\n, 8 (eight) is the natural number following...  \n",
            "9  [\\n, 9 (nine) is the natural number following ...  \n"
          ]
        }
      ]
    },
    {
      "cell_type": "code",
      "source": [
        "df.to_csv(\"scrapped_data.csv\")"
      ],
      "metadata": {
        "id": "ZRpekPp7QK6g"
      },
      "execution_count": 124,
      "outputs": []
    }
  ]
}